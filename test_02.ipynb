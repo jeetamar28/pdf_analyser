{
 "cells": [
  {
   "cell_type": "code",
   "execution_count": 1,
   "metadata": {},
   "outputs": [],
   "source": [
    "from PyPDF2 import PdfReader\n",
    "from langchain.embeddings.openai import OpenAIEmbeddings\n",
    "from langchain.text_splitter import CharacterTextSplitter\n",
    "from langchain.vectorstores import FAISS"
   ]
  },
  {
   "cell_type": "code",
   "execution_count": 2,
   "metadata": {},
   "outputs": [],
   "source": [
    "import os\n",
    "os.environ[\"OPENAI_API_KEY\"] = \"use yours\""
   ]
  },
  {
   "cell_type": "code",
   "execution_count": 3,
   "metadata": {},
   "outputs": [],
   "source": [
    "pdfreader = PdfReader('bb1.pdf')"
   ]
  },
  {
   "cell_type": "code",
   "execution_count": 4,
   "metadata": {},
   "outputs": [],
   "source": [
    "from typing_extensions import Concatenate\n",
    "raw_text = ''\n",
    "for i, page in enumerate(pdfreader.pages):\n",
    "    content = page.extract_text()\n",
    "    if content:\n",
    "        raw_text += content"
   ]
  },
  {
   "cell_type": "code",
   "execution_count": 5,
   "metadata": {},
   "outputs": [
    {
     "data": {
      "text/plain": [
       "\"Key Features \\nof\\nBudget\\n2024-2025\\nFebruary, 2024ºÉiªÉàÉä´É VÉªÉiÉäViksit Bharat by 2047\\nDevelopment Mantra\\nComprehensive \\ndevelopment of allVision: Prosperous Bharat in harmony with nature, modern \\ninfrastructure and opportunities for all\\nSabka Saath, \\nSabka Vikas\\nSabka Saath, \\nSabka Vikas, \\nSabka Vishwas\\nTrinity of demography, \\ndemocracy and diversity, \\nbacked by ‘Sabka Prayas ’\\nDeveloped India \\n@ 2047\\n1People -Centric Inclusive Development\\nSubstantive development of all forms of \\ninfrastructure -Physical, Digital and Social\\nDigital Public Infrastructure (DPI) -Promoted \\nformalisation and financial inclusion\\nDeepening and widening of tax base via GST\\nStrengthened financial sector brought savings, credit \\nand Investment back on track\\nGIFT  IFSC - A robust  gateway  for global  capital  and \\nfinancial  services  for the economy\\nProactive  Inflation  management\\nAll parts  of country  becoming  active  participants  in \\neconomic  growth\\n-10-505101520\\nFY14\\nFY15\\nFY16\\nFY17\\nFY18\\nFY19\\nFY20\\nFY21\\nFY22\\nFY23\\nFY24\\nFY25\\nFY26\\nFY27\\nFY28\\nFY29Per centIndia Dollar GDP growth World Dollar GDP growthIndia and World Dollar GDP growth\\n2Focus Areas (1/2)\\n55.3\\n29.2\\n24.9\\n15\\n11.3\\n2005-06 2013-14* 2015-16 2019-21 2022-23*Percentage of Population who are \\nMultidimensionally poorDecline in \\nHeadcount Ratio \\n25 crore people moved out of Multi -\\ndimensional povertyGarib Kalyan, Desh ka Kalyan\\nDBT has led to savings of ₹2.7 lakh \\ncrore\\nCredit assistance to 78 lakh street \\nvendors under PM -SV ANidhi\\nEmpowering the Youth\\n40006050\\n2023-24 (BE) 2024-25 (BE)₹ CroreIncrease in PM -SHRI \\nBudget Allocation1.4 crore youth trained under Skill \\nIndia Mission\\n1623\\n2014 2023IIT\\n7231113\\n2014 2023Universities\\n722\\n2014 2022AIIMSFostering entrepreneurial aspirations \\nof Youth -43 crore loans sanctioned \\nunder PM Mudra Yojana\\n3* ProjectionsFocus Areas (2/2)\\nWelfare of Farmers -Annadata\\nDirect financial assistance to 11.8 \\ncrore farmers under PM -KISAN\\nCrop Insurance to 4 crore farmers \\nunder PM Fasal  Bima Yojana\\nIntegration  1,361 mandis  under  e-\\nNAM,  supporting  trading  volume  of \\n₹ 3 lakh crore\\nNari Shakti\\n30 crore Mudra Yojana loans \\ndisbursed to women entrepreneurs\\nIncreased female enrolment in higher \\neducation by 28 per cent in 10 years\\n43 per cent of female  enrolment  in \\nSTEM  courses\\n1 crore  women  assisted  by 83 lakh \\nSHGs  to become  Lakhpati  Didis23.337.0\\n2017-18 2022-23Per centRise in Female Labour \\nForce Participation Rate\\n3029 28382020-21\\n2021-22\\n2022-23\\n2023-24Lakh Metric TonneRice\\n390433\\n1882622020-21\\n2021-22\\n2022-23\\n2023-24WheatIncreasing Procurement of \\nWheat and Rice\\n4Strategy for Amrit Kaal (1/5)\\nSustainable Development\\nCommitment  to meet  ‘Net Zero’  by 2070\\n•Viability  gap funding  for wind  energy\\n•Setting  up of coal gasification  and liquefaction  capacity\\n•Phased  mandatory  blending  of CNG,  PNG  and \\ncompressed  biogas\\n•Financial  assistance  for procurement  of biomass  \\naggregation  machinery\\nRooftop  solarization -1 crore  households  will be enabled  to \\nobtain  up to 300 units  of free electricity  per month\\n•Adoption  of e-buses  for public  transport  network\\n•Strengthening  e-vehicle  ecosystem  by supporting  \\nmanufacturing  and charging\\nNew  scheme  of biomanufacturing  and bio-foundry  to be \\nlaunched  to support  environment  friendly  alternatives\\n30.432.343.9\\n2004 2014 Nov-23% of  Non -Fossil fuel installed \\nelectricity capacityPer cent increase in Non -Fossil Fuel \\ninstalled electricity capacity•>10 crore  LPG  connections  \\nreleased  under  PMUY\\n•36.9 crore  LED  bulbs , 72.2 \\nlakh LED  Tube  lights,  and \\n23.6 lakh Energy  efficient  \\nfans distributed  under  \\nUJALA  \\n•1.3 crore  LED  Street  Lights  \\ninstalled  under  SNLP  \\n5Strategy for Amrit Kaal (2/5)\\nInfrastructure and Investment\\n01234\\n036912\\nFY18 FY19 FY20 FY21 FY22 FY23 FY24\\n(BE)FY25\\n (BE)\\nCapex as % of GDPRs. Lakh CroreCapital Expenditure Capex as % of GDPImplementation  of 3 major  railway  corridor  programmes  \\nunder  PM Gati Shakti -to improve  logistics  efficiency  and \\nreduce  cost\\nPromotion  of foreign  investment  via bilateral  investment  \\ntreaties  to be negotiated\\n97991144634\\n581.3720\\n2222450394\\n162574149\\nFY15 FY22 FY15 FY22 FY15 FY22 FY15 FY22 FY15 FY22\\nNational highways\\n(Km)Cargo traffic at major\\nports (Mn tonnes)Electrified rail route\\n(km)Aircraft movement (Mn\\ntonnes)Number of AirportsImprovement in Physical InfrastructureExpansion  of existing  airports  and comprehensive  \\ndevelopment  of new airports  under  UDAN  scheme\\nPromotion  of urban  transformation  via Metro  rail and NaMo  \\nBharat\\n298596\\n2005-14 2014-23USD BillionDoubling of FDI Inflow Increase in Capital Expenditure\\n6\\nStrategy for Amrit Kaal (3/5)\\nInclusive Development (1/2)\\nAspirational  District  Programme  to assist  States  in faster  \\ndevelopment,  including  employment  generation\\nEncourage  Cervical  Cancer  Vaccination  for girls (9-14 years)\\nSaksham  Anganwadi  and Poshan  2.0 to be expedited  for \\nimproved  nutrition  delivery,  early  childhood  care and \\ndevelopment\\nU-WIN  platform  for immunisation  efforts  of Mission  \\nIndradhanush  to be rolled  out\\nHealth  cover  under  Ayushman  Bharat  scheme  to be extended  \\nto all ASHA,  Angawadi  workers  and helpersInclusive Development in Aspirational Districts (112)\\nHealth6889\\n2018 Oct-23Per cent% of Women registered for \\nAnti-Natal Care within First \\nTrimester\\n173713195\\n2018 Oct-23NumberNumber of enrolments under \\nPradhan Mantri Jeevan Jyoti \\nBima Yojana (PMJJBY) per lakh \\npopulation \\n7Strategy for Amrit Kaal (4/5)\\nInclusive Development (2/2)\\nPradhan  Mantri  Awas  Yojana  \\n(Grameen)  close  to achieving  target  \\nof 3 crore  houses,  additional  2 crore  \\ntargeted  for next 5 years  \\nHousing  for Middle  Class  scheme  to \\nbe launched  to promote  middle  class  \\nto buy/built  their own houses\\nStates  will be encouraged  to \\nundertake  development  of iconic  \\ntourist  centres  to attract  business  and \\npromote  opportunities  for local  \\nentrepreneurship\\nLong -term interest  free loans  to be \\nprovided  to States  to encourage  \\ndevelopment\\nHousing\\nTourism\\n7959080671\\n2023-24\\n(BE)2024-25\\n(BE)₹ CroreIncreased allocation for \\nPMAY\\nG20 meetings  in 60 places  \\npresented  diversity  of India  to \\nglobal  audience\\nProjects  for port connectivity,  \\ntourism  infrastructure,  and \\namenities  will be taken  up in \\nislands,  including  \\nLakshadweep\\n8Strategy for Amrit Kaal (5/5)\\nAgriculture and Food Processing\\nGovernment  will promote  private  and public  investment  in \\npost-harvest  activities\\nApplication  of Nano -DAP  to be expanded  in all agro-climatic  \\nzones\\nAtmanirbhar  Oilseeds  Abhiyaan -Strategy  to be formulated  to \\nachieve  atmanirbharta  for oilseeds\\nComprehensive  programme  for dairy  development  to be \\nformulated\\nImplementation  of Pradhan  Mantri  Matsaya  Sampada  Yojana  \\nto be stepped  up to enhance  aquaculture  productivity,  double  \\nexports  and generate  more  employment  opportunities\\n5 Integrated  Aquaparks  to be set up\\n20252352\\n2023-24\\n(BE)2024-25\\n(BE)Rs. CroreIncreased allocation for \\nBlue Revolution\\n639880\\n2023-24\\n(BE)2024-25\\n(BE)Rs. CroreIncreased allocation for PM -\\nFormalisation of Micro Food \\nProcessing Enterprises scheme\\n9Resilient Performance of the Indian Economy\\n0.00.51.01.52.02.5\\nFY14\\nFY15\\nFY16\\nFY17\\nFY18\\nFY19\\nFY20\\nFY21\\nFY22\\nFY23\\nH1: FY24Per cent of GDPDeclining CAD as % of GDP\\n6.15.8\\n4.8\\n4.2 4.1\\n3.2\\n2017-18 2018-19 2019-20 2020-21 2021-22 2022-23Per centDeclining Unemployment Rate \\n3.84.37.59.311.2\\n9.1\\n8.2\\n7.3\\n5.8\\n3.2FY14\\nFY15\\nFY16\\nFY17\\nFY18\\nFY19\\nFY20\\nFY21\\nFY22\\nSep-23Gross NPAs a % of Gross AdvancesDeclining GNPAs as % of \\nGross Advances \\n0400080001200016000\\nFY18 FY19 FY20 FY21 FY22 FY23 FY24CroreRising volume of Digital \\nTransactions\\n0.91.01.0\\n0.91.21.51.7\\n0.60.91.21.51.8\\nFY18\\nFY19\\nFY20\\nFY21\\nFY22\\nFY23\\nFY24₹ Lakh CroreRise in average monthly gross \\nGST collections\\n9.4\\n5.8\\n4.94.5\\n3.63.44.86.2\\n5.56.7\\n5.5FY14\\nFY15\\nFY16\\nFY17\\nFY18\\nFY19\\nFY20\\nFY21\\nFY22\\nFY23\\nFY24*Per centFall in Headline Inflation\\n10Achievements of Taxation Reforms\\nDirect Tax Collections more than trebled in last 10 \\nyears\\nNumber of return filers swelled to 2.4 times\\nFaster  refunds : Reduction  in average  processing  \\ntime of returns  from  93 days (2013 -14) to 10 days \\n(2023 -24)\\nBenefit  to consumers : \\nReduction  in logistics  \\ncost and prices  of most  \\ngoods  and servicesAverage  monthly  Gross  GST \\ncollections  doubled  to ₹1.66 lakh \\ncrore  in FY24\\nIncrease  in tax buoyancy  of State  \\nrevenue  from  0.72 (2012 -16) to 1.22 \\nin the post-GST period  (2017 -23)\\nDecline  in import  release  time  since  2019  by: -\\n•47 per cent at Inland  Container  Depots\\n•28 per cent at Air Cargo  complexes\\n•27 per cent at Sea Ports\\nPositive sentiment about GST\\n•94% industry leasers view transition to GST as largely positive\\n•80% of respondents feel GST has led to supply -chain optimisation\\n(As per a survey conducted by a leading consulting firm) \\n11Tax Proposals\\nContinuity  in taxation : Certain  tax benefits  to \\nStart -ups and investments  made  by sovereign  \\nwealth  funds/pension  funds,  tax exemption  of some  \\nIFSC  units  earlier  expiring  on 31.03.2024  extended  \\nup to 31.03.2025\\nWithdrawal  of outstanding  direct  tax demand : -\\n•Up to ₹25,000 pertaining  up to FY10\\n•Up to ₹10,000 for FY11-FY15\\nExpected  to benefit  approx . 1 crore  taxpayers\\n12\\nRetention  of same  tax rates : -\\n• For direct  and indirect  taxes,  including  import  \\nduties\\n•For Corporate  Taxes -22% for existing  domestic  \\ncompanies,  15% for certain  new manufacturing  \\ncompanies\\n•No tax liability  for taxpayers  with income  up to \\n₹7 lakh under  the new tax regime\\nRupee Comes From\\nNon-Tax Receipts (7%)\\nNon-Debt Capital Receipts (1%)\\nCustoms (4%)\\nGST and other taxes (18%)Corporation tax \\n(17%)Union Excise \\nDuties (5%)Income Tax \\n(19%)\\nBorrowing and Other \\nLiabilities (28%)\\nInterest Payments (20%)\\nCentrally \\nSponsored \\nSchemes (8%)\\nSubsidies (6%)\\nDefence (8%)Other Expenditure\\n(9%)\\nStates' share of \\nTaxes and Duties \\n(20%)\\nFinance Commission \\nand other transfers \\n(8%)\\nCentral Sector Schemes \\n(16%)Pensions (4%)\\nRupee Goes To\\n13Allocation for Specific Ministries\\nMinistry of Defence\\nMinistry of Agriculture \\nand Farmer's Welfare\\nMinistry of Consumer Affairs, \\nFood & Public Distribution\\nMinistry of Road Transport and \\nHighways\\nMinistry of Home Affairs\\nMinistry of Railways\\nMinistry of Chemicals and \\nFertilizers\\nMinistry of \\nCommunications\\nMinistry of Rural \\nDevelopmentin ₹ Lakh Crore\\n6.2\\n2.78\\n2.55\\n2.13\\n2.03\\n1.77\\n1.68\\n1.37\\n1.27\\n14Allocation to Major Schemes (in ₹ crore)\\nAyushman Bharat -PMJAY\\n2023 -24(BE) 2024 -25(BE)75007200\\n2023 -24(BE)Modified Programme for \\nDevelopment of Semi -\\nconductors and display \\nmanufacturing ecosystem\\n 3,000\\n6,903\\n2024 -25(BE)\\nSolar Power (Grid)\\n2023 -24(BE) 4,970\\n8,500\\n2024 -25(BE)\\n297\\n600\\n2023 -24(BE) 2024 -25(BE)National Green Hydrogen \\nMission2023 -24(BE)Production Linked Incentive \\nScheme4,645\\n6,200\\n2024 -25(BE)Mahatma Gandhi National Rural \\nEmployment Guarantee Scheme\\n2023 -24(BE) 2024 -25(BE)\\n86,00060,000\\n15\\nReceipts and Expenditure\\n23.826.327.030.0\\n05101520253035\\n2022-23\\n(Actuals)2023-24\\n(BE)2023-24\\n(RE)2024-25\\n(BE)₹Lakh CroreRevenue Receipts \\n18.118.7\\n17.9\\n17.6\\n16171819\\n2022-23\\n(Actuals)2023-24\\n(BE)2023-24\\n(RE)2024-25\\n(BE)₹Lakh CroreCapital Receipts \\n34.535.035.436.5\\n3334353637\\n2022-23\\n(Actuals)2023-24\\n(BE)2023-24\\n(RE)2024-25\\n(BE)₹Lakh CroreRevenue Expenditure \\n10.513.7\\n12.715.0\\n0481216\\n2022-23\\n(Actuals)2023-24\\n(BE)2023-24\\n(RE)2024-25\\n(BE)₹Lakh CroreEffective Capital Expenditure \\n16Key Features \\nof\\nBudget\\n2024-2025\\nFebruary, 2024ºÉiªÉàÉä´É VÉªÉiÉä\""
      ]
     },
     "execution_count": 5,
     "metadata": {},
     "output_type": "execute_result"
    }
   ],
   "source": [
    "raw_text\n"
   ]
  },
  {
   "cell_type": "code",
   "execution_count": 6,
   "metadata": {},
   "outputs": [],
   "source": [
    "text_splitter = CharacterTextSplitter(\n",
    "    separator = \"\\n\",\n",
    "    chunk_size = 800,\n",
    "    chunk_overlap  = 200,\n",
    "    length_function = len,\n",
    ")\n",
    "texts = text_splitter.split_text(raw_text)"
   ]
  },
  {
   "cell_type": "code",
   "execution_count": 7,
   "metadata": {},
   "outputs": [
    {
     "data": {
      "text/plain": [
       "20"
      ]
     },
     "execution_count": 7,
     "metadata": {},
     "output_type": "execute_result"
    }
   ],
   "source": [
    "len(texts)\n"
   ]
  },
  {
   "cell_type": "code",
   "execution_count": 8,
   "metadata": {},
   "outputs": [
    {
     "name": "stderr",
     "output_type": "stream",
     "text": [
      "c:\\Users\\admin\\AppData\\Local\\Programs\\Python\\Python310\\lib\\site-packages\\langchain_core\\_api\\deprecation.py:117: LangChainDeprecationWarning: The class `langchain_community.embeddings.openai.OpenAIEmbeddings` was deprecated in langchain-community 0.0.9 and will be removed in 0.2.0. An updated version of the class exists in the langchain-openai package and should be used instead. To use it run `pip install -U langchain-openai` and import as `from langchain_openai import OpenAIEmbeddings`.\n",
      "  warn_deprecated(\n"
     ]
    }
   ],
   "source": [
    "embeddings = OpenAIEmbeddings()"
   ]
  },
  {
   "cell_type": "code",
   "execution_count": null,
   "metadata": {},
   "outputs": [],
   "source": [
    "document_search = FAISS.from_texts(texts, embeddings)"
   ]
  },
  {
   "cell_type": "code",
   "execution_count": 10,
   "metadata": {},
   "outputs": [],
   "source": [
    "from langchain.chains.question_answering import load_qa_chain\n",
    "from langchain.llms import OpenAI"
   ]
  },
  {
   "cell_type": "code",
   "execution_count": 11,
   "metadata": {},
   "outputs": [
    {
     "name": "stderr",
     "output_type": "stream",
     "text": [
      "c:\\Users\\admin\\AppData\\Local\\Programs\\Python\\Python310\\lib\\site-packages\\langchain_core\\_api\\deprecation.py:117: LangChainDeprecationWarning: The class `langchain_community.llms.openai.OpenAI` was deprecated in langchain-community 0.0.10 and will be removed in 0.2.0. An updated version of the class exists in the langchain-openai package and should be used instead. To use it run `pip install -U langchain-openai` and import as `from langchain_openai import OpenAI`.\n",
      "  warn_deprecated(\n"
     ]
    }
   ],
   "source": [
    "chain = load_qa_chain(OpenAI(), chain_type=\"stuff\")"
   ]
  },
  {
   "cell_type": "code",
   "execution_count": null,
   "metadata": {},
   "outputs": [],
   "source": [
    "query = \"what is strategy for amrit kaal\"\n",
    "docs = document_search.similarity_search(query)\n",
    "chain.run(input_documents=docs, question=query)"
   ]
  }
 ],
 "metadata": {
  "kernelspec": {
   "display_name": "Python 3",
   "language": "python",
   "name": "python3"
  },
  "language_info": {
   "codemirror_mode": {
    "name": "ipython",
    "version": 3
   },
   "file_extension": ".py",
   "mimetype": "text/x-python",
   "name": "python",
   "nbconvert_exporter": "python",
   "pygments_lexer": "ipython3",
   "version": "3.10.4"
  }
 },
 "nbformat": 4,
 "nbformat_minor": 2
}
